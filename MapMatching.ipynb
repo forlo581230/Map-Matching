{
 "cells": [
  {
   "cell_type": "code",
   "execution_count": 1,
   "metadata": {},
   "outputs": [],
   "source": [
    "import pandas as pd\n",
    "import numpy as np\n",
    "import os\n",
    "import math\n",
    "import sys\n",
    "import glob\n",
    "# sys.path.append('..')\n",
    "from tools import haversine, CSVReader_GPS, TimeTranslator, WebCodeTranslator, FillMissingGPSData"
   ]
  },
  {
   "cell_type": "markdown",
   "metadata": {},
   "source": [
    "## hyper-parameters"
   ]
  },
  {
   "cell_type": "code",
   "execution_count": 2,
   "metadata": {},
   "outputs": [
    {
     "data": {
      "text/plain": [
       "\"\\n'./test_omnieyes/DF_CSV/' : 資料夾中的csv檔案儲存 map matching完的結果，行車路線經過的Node。\\n\\n'test_omnieyes/WebVisualizeCode/' : 資料夾中的txt檔案分別為儲存 原始數據/ 行車路線經過的Node 的VisualCode\\n將內容複製貼到WebSample.html中即可在瀏覽器瀏覽結果。\\n\\n\""
      ]
     },
     "execution_count": 2,
     "metadata": {},
     "output_type": "execute_result"
    }
   ],
   "source": [
    "\n",
    "## 設定要輸入的gps data folder路徑\n",
    "gps_file_list = glob.glob(os.path.join('./test_omnieyes/GPS_RawData/', '*.csv'))\n",
    "gps_file_list.sort()\n",
    "# gps_file_list.pop(1)\n",
    "## 輸出檔案說明：\n",
    "'''\n",
    "'./test_omnieyes/DF_CSV/' : 資料夾中的csv檔案儲存 map matching完的結果，行車路線經過的Node。\n",
    "\n",
    "'test_omnieyes/WebVisualizeCode/' : 資料夾中的txt檔案分別為儲存 原始數據/ 行車路線經過的Node 的VisualCode\n",
    "將內容複製貼到WebSample.html中即可在瀏覽器瀏覽結果。\n",
    "\n",
    "'''\n"
   ]
  },
  {
   "cell_type": "markdown",
   "metadata": {},
   "source": [
    "## Functions"
   ]
  },
  {
   "cell_type": "code",
   "execution_count": 3,
   "metadata": {},
   "outputs": [],
   "source": [
    "def GenGPX(df_RawData, save_name):\n",
    "    ## 1. generate GPX file, \n",
    "    lat = df_RawData['lat'].values\n",
    "    lon = df_RawData['lon'].values\n",
    "    with open('./GPXdata/template.gpx', 'r')as f:\n",
    "        txt = f.readlines()\n",
    "    Nd_trackpoint = []\n",
    "    with open(save_name, 'w') as f:\n",
    "        f.writelines(txt)\n",
    "        for i in range(len(lat)):\n",
    "            line = '<trkpt lat=\\\"'+ str(lat[i]) +'\\\" lon=\\\"' + str(lon[i]) + '\\\"><time></time></trkpt>\\n'\n",
    "            Nd_trackpoint.append([lat[i], lon[i]])\n",
    "            f.write(line)\n",
    "        f.write('</trkseg>\\n</trk>\\n</gpx>\\n')\n",
    "        print(save_name + ' saved...')\n",
    "    return Nd_trackpoint\n",
    "def ReadGPX(filename, getWebCode=False):\n",
    "    '''\n",
    "    INPUT \n",
    "        filename: type(String), './filepath/filename.gpx'\n",
    "        getWebCode: type(Bool), if u want to show results on the website, print the JS code\n",
    "    OUTPUT\n",
    "        Nd_trajectory: type([[lat, lon], ...])\n",
    "        visualweb_code: code       \n",
    "    '''\n",
    "    visualweb_code = ''\n",
    "    Nd_trajectory = []\n",
    "    if '.res.gpx' in filename:\n",
    "        lastone_count_ornot = 4\n",
    "    else:\n",
    "        lastone_count_ornot = 3\n",
    "    with open(filename, 'r') as f:\n",
    "        txt = f.readlines()    \n",
    "        for i in range(3, len(txt)-lastone_count_ornot):\n",
    "            word = txt[i].split('\"')\n",
    "            lat = word[1]\n",
    "            lon = word[3]\n",
    "            Nd_trajectory.append([float(lat), float(lon)])\n",
    "            if getWebCode:\n",
    "                visualweb_code += 'L.marker(['+ lat +', '+ lon + '], {icon: goldIcon}).addTo(mymap).bindPopup(\"''\").openPopup()\\n'        \n",
    "    return Nd_trajectory, visualweb_code\n",
    "\n",
    "\n",
    "def GraphHopper(gpxfile):\n",
    "    !bash ./mm.sh {gpxfile}\n",
    "\n",
    "def SearchNodeID(df_Node, pos):\n",
    "    '''\n",
    "    INPUT\n",
    "        df_Node: Nodes info, type(pd.dataframe)\n",
    "        pos: type([[lat, lon], ...])\n",
    "    OUTPUT\n",
    "        nodeID: type([int, ...]), or None\n",
    "    '''\n",
    "    IDList = []\n",
    "    print('input position: ', pos)\n",
    "    for pid in range(len(pos)):\n",
    "        NodeID = None\n",
    "        lat = pos[pid][0]\n",
    "        lon = pos[pid][1]\n",
    "        for i in range(len(df_Node)):\n",
    "            if math.fabs(df_Node.iloc[i].lat-pos[pid][0]) < 0.00001:\n",
    "                if math.fabs(df_Node.iloc[i].lon-pos[pid][1]) < 0.00001:\n",
    "                    NodeID = df_Node.iloc[i].node\n",
    "                    lat = df_Node.iloc[i].lat\n",
    "                    lon = df_Node.iloc[i].lon\n",
    "                    break\n",
    "        IDList.append([NodeID, lat, lon])\n",
    "#     print('IDList: ', IDList)\n",
    "    return IDList\n",
    "    \n",
    "def OrthogonalProjection(AB, AP):\n",
    "    ## projection\n",
    "    PROJ = (np.dot(AB, AP) / np.dot(AB, AB)) * AB\n",
    "    return PROJ\n",
    "\n",
    "def VectorsAngle(A, B):\n",
    "    ## /pi *180\n",
    "    return math.acos(np.dot(A, B) / np.sqrt(np.dot(A, A)*np.dot(B, B)))\n",
    "    \n",
    "    \n",
    "def MapMatching(gpxfile, tempfile):\n",
    "    pass\n",
    "    data, _ = ReadGPX(gpxfile)\n",
    "    data_colnames_RawData = ['lat', 'lon']\n",
    "    NofSeg = 300000\n",
    "    NofCover = 30\n",
    "    Nd_trajectory = []\n",
    "    iters = math.ceil(max((len(data)-NofSeg), 0)/(NofSeg-NofCover)) + 1\n",
    "#     print(iters)\n",
    "    ## split gpx data\n",
    "    for i in range(iters):\n",
    "        if i != iters-1:\n",
    "            raw_data = pd.DataFrame(data[(NofSeg-NofCover)*i:(NofSeg-NofCover)*i+NofSeg], columns=data_colnames_RawData)\n",
    "            GenGPX(raw_data, tempfile)\n",
    "            print('input points: {}~{}'.format((NofSeg-NofCover)*i, (NofSeg-NofCover)*i+NofSeg))\n",
    "        else:\n",
    "            raw_data = pd.DataFrame(data[(NofSeg-NofCover)*i:], columns=data_colnames_RawData)\n",
    "            GenGPX(raw_data, tempfile)\n",
    "            print('input points: {}~{}'.format((NofSeg-NofCover)*i, len(data)-1))\n",
    "\n",
    "        ## Do MapMatching through GraphHopper\n",
    "        GraphHopper(tempfile)\n",
    "        \n",
    "        ## Read Mapping results\n",
    "        nodes, _ = ReadGPX(tempfile+'.res.gpx')\n",
    "#         print(Nd_trajectory)\n",
    "        if len(Nd_trajectory) != 0:\n",
    "#             if Nd_trajectory[-1] == nodes[0]:\n",
    "#                 Nd_trajectory.extend(nodes[1:])\n",
    "#             else:\n",
    "#                 Nd_trajectory.extend(nodes)\n",
    "            for nd in nodes:\n",
    "#                 print(nd)\n",
    "#                 input()\n",
    "                if nd in Nd_trajectory:\n",
    "                    pass\n",
    "                else:\n",
    "                    Nd_trajectory.extend([nd])\n",
    "        else:\n",
    "            Nd_trajectory.extend(nodes)\n",
    "            \n",
    "    return Nd_trajectory\n",
    "\n",
    "def CSVReader_GPS(data, video_list):           \n",
    "    raw_data = [] \n",
    "    for video_name in video_list:\n",
    "        d = data.loc[data['video_name']==video_name]\n",
    "        label = np.array(d['time'])\n",
    "        longitude = np.array(d['longitude'])\n",
    "        latitude = np.array(d['latitude'])\n",
    "        for i in range(len(label)):\n",
    "            raw_data.append([label[i], latitude[i], longitude[i]])\n",
    "    return raw_data\n",
    "\n"
   ]
  },
  {
   "cell_type": "markdown",
   "metadata": {},
   "source": [
    "## Main"
   ]
  },
  {
   "cell_type": "code",
   "execution_count": 6,
   "metadata": {},
   "outputs": [
    {
     "name": "stdout",
     "output_type": "stream",
     "text": [
      "./test_omnieyes/WebVisualizeCode/行車紀錄_2020-06-15_5T-336_RawData.txt  saved...\n",
      "./GPXdata/行車紀錄_2020-06-15_5T-336.gpx saved...\n",
      "./GPXdata/temp.gpx saved...\n",
      "input points: 0~2203\n",
      "Doing ./GPXdata/temp.gpx\n",
      "loading graph from cache\n",
      "./GPXdata/temp.gpx\n",
      "\tmatches:\t414, gps entries:2204\n",
      "\tgpx length:\t22143.629 vs 21941.414\n",
      "\texport results to:/home/ubuntu/Desktop/map-matching/./GPXdata/temp.gpx.res.gpx\n",
      "gps import took:0.47273844s, match took: 1.4989077\n",
      "[{\"lat\":25.040921,\"lon\":121.460921},{\"lat\":25.041017,\"lon\":121.461218},{\"lat\":25.041077,\"lon\":121.46128},{\"lat\":25.041261,\"lon\":121.46141},{\"lat\":25.041297,\"lon\":121.461467},{\"lat\":25.041261,\"lon\":121.46141},{\"lat\":25.041077,\"lon\":121.46128},{\"lat\":25.041017,\"lon\":121.461218},{\"lat\":25.04093,\"lon\":121.461338},{\"lat\":25.040831,\"lon\":121.461432},{\"lat\":25.039831,\"lon\":121.46183},{\"lat\":25.039229,\"lon\":121.460855},{\"lat\":25.039178,\"lon\":121.460651},{\"lat\":25.039182,\"lon\":121.460587},{\"lat\":25.039225,\"lon\":121.460498},{\"lat\":25.03973,\"lon\":121.460303},{\"lat\":25.04019,\"lon\":121.460229},{\"lat\":25.040564,\"lon\":121.460207},{\"lat\":25.04126,\"lon\":121.460168},{\"lat\":25.041643,\"lon\":121.460004},{\"lat\":25.042465,\"lon\":121.459965},{\"lat\":25.044481,\"lon\":121.459948},{\"lat\":25.04448,\"lon\":121.45977},{\"lat\":25.044474,\"lon\":121.459344},{\"lat\":25.044103,\"lon\":121.459356},{\"lat\":25.044474,\"lon\":121.459344},{\"lat\":25.044448,\"lon\":121.458783},{\"lat\":25.044411,\"lon\":121.457866},{\"lat\":25.044332,\"lon\":121.456522},{\"lat\":25.044285,\"lon\":121.455943},{\"lat\":25.044152,\"lon\":121.454992},{\"lat\":25.044063,\"lon\":121.454422},{\"lat\":25.04325,\"lon\":121.454602},{\"lat\":25.042979,\"lon\":121.454666},{\"lat\":25.042873,\"lon\":121.45472},{\"lat\":25.043065,\"lon\":121.454916},{\"lat\":25.043225,\"lon\":121.45527},{\"lat\":25.043254,\"lon\":121.455367},{\"lat\":25.043004,\"lon\":121.455609},{\"lat\":25.042798,\"lon\":121.455934},{\"lat\":25.042692,\"lon\":121.45611},{\"lat\":25.042553,\"lon\":121.456231},{\"lat\":25.042339,\"lon\":121.456319},{\"lat\":25.042126,\"lon\":121.456337},{\"lat\":25.041811,\"lon\":121.456366},{\"lat\":25.04136,\"lon\":121.456436},{\"lat\":25.041162,\"lon\":121.456428},{\"lat\":25.041016,\"lon\":121.456463},{\"lat\":25.041162,\"lon\":121.456428},{\"lat\":25.04136,\"lon\":121.456436},{\"lat\":25.041811,\"lon\":121.456366},{\"lat\":25.042126,\"lon\":121.456337},{\"lat\":25.042339,\"lon\":121.456319},{\"lat\":25.042553,\"lon\":121.456231},{\"lat\":25.04259,\"lon\":121.456199},{\"lat\":25.042691,\"lon\":121.456525},{\"lat\":25.043218,\"lon\":121.456332},{\"lat\":25.043507,\"lon\":121.456226},{\"lat\":25.043652,\"lon\":121.456839},{\"lat\":25.043676,\"lon\":121.457268},{\"lat\":25.043696,\"lon\":121.457645},{\"lat\":25.043711,\"lon\":121.457892},{\"lat\":25.043755,\"lon\":121.459368},{\"lat\":25.043776,\"lon\":121.459777},{\"lat\":25.043195,\"lon\":121.459783},{\"lat\":25.042521,\"lon\":121.459789},{\"lat\":25.042447,\"lon\":121.45979},{\"lat\":25.042284,\"lon\":121.457942},{\"lat\":25.041836,\"lon\":121.457956},{\"lat\":25.041455,\"lon\":121.457968},{\"lat\":25.041202,\"lon\":121.457917},{\"lat\":25.040977,\"lon\":121.457765},{\"lat\":25.04081,\"lon\":121.457707},{\"lat\":25.039967,\"lon\":121.457727},{\"lat\":25.039375,\"lon\":121.457265},{\"lat\":25.039301,\"lon\":121.457422},{\"lat\":25.038952,\"lon\":121.457141},{\"lat\":25.038737,\"lon\":121.45682},{\"lat\":25.038952,\"lon\":121.457141},{\"lat\":25.039301,\"lon\":121.457422},{\"lat\":25.039197,\"lon\":121.457644},{\"lat\":25.039017,\"lon\":121.457907},{\"lat\":25.038935,\"lon\":121.45799},{\"lat\":25.038672,\"lon\":121.458256},{\"lat\":25.038482,\"lon\":121.458514},{\"lat\":25.038429,\"lon\":121.458717},{\"lat\":25.039563,\"lon\":121.458701},{\"lat\":25.039539,\"lon\":121.458192},{\"lat\":25.04018,\"lon\":121.45817},{\"lat\":25.040214,\"lon\":121.459136},{\"lat\":25.039577,\"lon\":121.459168},{\"lat\":25.039563,\"lon\":121.458701},{\"lat\":25.038429,\"lon\":121.458717},{\"lat\":25.037967,\"lon\":121.458791},{\"lat\":25.037851,\"lon\":121.458599},{\"lat\":25.037459,\"lon\":121.457964},{\"lat\":25.03758,\"lon\":121.457865},{\"lat\":25.037459,\"lon\":121.457964},{\"lat\":25.037342,\"lon\":121.457774},{\"lat\":25.037168,\"lon\":121.457508},{\"lat\":25.037027,\"lon\":121.457231},{\"lat\":25.036977,\"lon\":121.457082},{\"lat\":25.036873,\"lon\":121.456676},{\"lat\":25.036698,\"lon\":121.454908},{\"lat\":25.036603,\"lon\":121.454403},{\"lat\":25.036454,\"lon\":121.453688},{\"lat\":25.036207,\"lon\":121.452549},{\"lat\":25.036115,\"lon\":121.452116},{\"lat\":25.036608,\"lon\":121.451973},{\"lat\":25.037333,\"lon\":121.451982},{\"lat\":25.03793,\"lon\":121.451988},{\"lat\":25.038581,\"lon\":121.452017},{\"lat\":25.039277,\"lon\":121.452136},{\"lat\":25.039551,\"lon\":121.452202},{\"lat\":25.03977,\"lon\":121.452937},{\"lat\":25.039876,\"lon\":121.453441},{\"lat\":25.039995,\"lon\":121.453912},{\"lat\":25.040093,\"lon\":121.454203},{\"lat\":25.040196,\"lon\":121.454677},{\"lat\":25.040325,\"lon\":121.454666},{\"lat\":25.040203,\"lon\":121.454048},{\"lat\":25.040117,\"lon\":121.45296},{\"lat\":25.040071,\"lon\":121.452363},{\"lat\":25.040275,\"lon\":121.452446},{\"lat\":25.040384,\"lon\":121.452461},{\"lat\":25.041067,\"lon\":121.452602},{\"lat\":25.041239,\"lon\":121.453609},{\"lat\":25.04128,\"lon\":121.453998},{\"lat\":25.041455,\"lon\":121.454986},{\"lat\":25.040683,\"lon\":121.455181},{\"lat\":25.040439,\"lon\":121.455237},{\"lat\":25.039631,\"lon\":121.455385},{\"lat\":25.039095,\"lon\":121.455446},{\"lat\":25.038775,\"lon\":121.455445},{\"lat\":25.038343,\"lon\":121.455384},{\"lat\":25.038469,\"lon\":121.454988},{\"lat\":25.038565,\"lon\":121.454976},{\"lat\":25.038587,\"lon\":121.454651},{\"lat\":25.038861,\"lon\":121.454664},{\"lat\":25.038587,\"lon\":121.454651},{\"lat\":25.038565,\"lon\":121.454976},{\"lat\":25.038469,\"lon\":121.454988},{\"lat\":25.038343,\"lon\":121.455384},{\"lat\":25.038775,\"lon\":121.455445},{\"lat\":25.039095,\"lon\":121.455446},{\"lat\":25.039631,\"lon\":121.455385},{\"lat\":25.040081,\"lon\":121.455306},{\"lat\":25.040439,\"lon\":121.455237},{\"lat\":25.040683,\"lon\":121.455181},{\"lat\":25.041455,\"lon\":121.454986},{\"lat\":25.041842,\"lon\":121.4549},{\"lat\":25.042014,\"lon\":121.454865},{\"lat\":25.041857,\"lon\":121.454074},{\"lat\":25.042017,\"lon\":121.454024},{\"lat\":25.041857,\"lon\":121.454074},{\"lat\":25.042014,\"lon\":121.454865},{\"lat\":25.042395,\"lon\":121.45475},{\"lat\":25.042498,\"lon\":121.454682},{\"lat\":25.042607,\"lon\":121.454534},{\"lat\":25.042761,\"lon\":121.454171},{\"lat\":25.043145,\"lon\":121.453919},{\"lat\":25.043256,\"lon\":121.453866},{\"lat\":25.043357,\"lon\":121.453792},{\"lat\":25.04367,\"lon\":121.453462},{\"lat\":25.043812,\"lon\":121.453285},{\"lat\":25.044007,\"lon\":121.453115},{\"lat\":25.04431,\"lon\":121.453745},{\"lat\":25.044567,\"lon\":121.453616},{\"lat\":25.044973,\"lon\":121.454506},{\"lat\":25.045151,\"lon\":121.454524},{\"lat\":25.045411,\"lon\":121.454511},{\"lat\":25.045418,\"lon\":121.454746},{\"lat\":25.045446,\"lon\":121.455823},{\"lat\":25.045487,\"lon\":121.457124},{\"lat\":25.045507,\"lon\":121.457836},{\"lat\":25.045539,\"lon\":121.458751},{\"lat\":25.045507,\"lon\":121.457836},{\"lat\":25.046036,\"lon\":121.457821},{\"lat\":25.046584,\"lon\":121.457773},{\"lat\":25.046613,\"lon\":121.458588},{\"lat\":25.046584,\"lon\":121.457773},{\"lat\":25.046913,\"lon\":121.457734},{\"lat\":25.047072,\"lon\":121.457709},{\"lat\":25.047305,\"lon\":121.457611},{\"lat\":25.047448,\"lon\":121.457491},{\"lat\":25.0476,\"lon\":121.457711},{\"lat\":25.047803,\"lon\":121.457913},{\"lat\":25.047948,\"lon\":121.458011},{\"lat\":25.048267,\"lon\":121.458136},{\"lat\":25.048545,\"lon\":121.458201},{\"lat\":25.048759,\"lon\":121.458244},{\"lat\":25.049435,\"lon\":121.458246},{\"lat\":25.049476,\"lon\":121.459763},{\"lat\":25.048342,\"lon\":121.459765},{\"lat\":25.048342,\"lon\":121.459357},{\"lat\":25.048261,\"lon\":121.459301},{\"lat\":25.048267,\"lon\":121.458136},{\"lat\":25.048276,\"lon\":121.457455},{\"lat\":25.047778,\"lon\":121.457081},{\"lat\":25.047886,\"lon\":121.456874},{\"lat\":25.048049,\"lon\":121.456461},{\"lat\":25.048132,\"lon\":121.456011},{\"lat\":25.048323,\"lon\":121.456072},{\"lat\":25.048132,\"lon\":121.456011},{\"lat\":25.048162,\"lon\":121.45579},{\"lat\":25.047146,\"lon\":121.455794},{\"lat\":25.047148,\"lon\":121.455525},{\"lat\":25.047148,\"lon\":121.455507},{\"lat\":25.046983,\"lon\":121.455509},{\"lat\":25.047148,\"lon\":121.455507},{\"lat\":25.047153,\"lon\":121.454743},{\"lat\":25.048239,\"lon\":121.454741},{\"lat\":25.048251,\"lon\":121.454105},{\"lat\":25.048249,\"lon\":121.453785},{\"lat\":25.048218,\"lon\":121.453165},{\"lat\":25.048249,\"lon\":121.453785},{\"lat\":25.048251,\"lon\":121.454105},{\"lat\":25.048239,\"lon\":121.454741},{\"lat\":25.048205,\"lon\":121.455318},{\"lat\":25.048162,\"lon\":121.45579},{\"lat\":25.048115,\"lon\":121.456133},{\"lat\":25.048049,\"lon\":121.456461},{\"lat\":25.047886,\"lon\":121.456874},{\"lat\":25.047778,\"lon\":121.457081},{\"lat\":25.047611,\"lon\":121.457323},{\"lat\":25.047448,\"lon\":121.457491},{\"lat\":25.047305,\"lon\":121.457611},{\"lat\":25.047072,\"lon\":121.457709},{\"lat\":25.046913,\"lon\":121.457734},{\"lat\":25.046584,\"lon\":121.457773},{\"lat\":25.046036,\"lon\":121.457821},{\"lat\":25.044411,\"lon\":121.457866},{\"lat\":25.043994,\"lon\":121.457883},{\"lat\":25.043711,\"lon\":121.457892},{\"lat\":25.043381,\"lon\":121.457904},{\"lat\":25.043095,\"lon\":121.457914},{\"lat\":25.042764,\"lon\":121.457925},{\"lat\":25.042284,\"lon\":121.457942},{\"lat\":25.041836,\"lon\":121.457956},{\"lat\":25.041455,\"lon\":121.457968},{\"lat\":25.041202,\"lon\":121.457917},{\"lat\":25.041238,\"lon\":121.459258},{\"lat\":25.041327,\"lon\":121.459851},{\"lat\":25.040893,\"lon\":121.459884},{\"lat\":25.03986,\"lon\":121.459976},{\"lat\":25.039696,\"lon\":121.460013},{\"lat\":25.039379,\"lon\":121.460122},{\"lat\":25.039481,\"lon\":121.460374},{\"lat\":25.03973,\"lon\":121.460303},{\"lat\":25.04019,\"lon\":121.460229},{\"lat\":25.040564,\"lon\":121.460207},{\"lat\":25.04126,\"lon\":121.460168},{\"lat\":25.042482,\"lon\":121.460127},{\"lat\":25.043436,\"lon\":121.460116},{\"lat\":25.044482,\"lon\":121.460104},{\"lat\":25.044482,\"lon\":121.459907},{\"lat\":25.04246,\"lon\":121.459914},{\"lat\":25.042447,\"lon\":121.45979},{\"lat\":25.042284,\"lon\":121.457942},{\"lat\":25.041836,\"lon\":121.457956},{\"lat\":25.041455,\"lon\":121.457968},{\"lat\":25.041202,\"lon\":121.457917},{\"lat\":25.041238,\"lon\":121.459258},{\"lat\":25.041327,\"lon\":121.459851},{\"lat\":25.040893,\"lon\":121.459884},{\"lat\":25.03986,\"lon\":121.459976},{\"lat\":25.039696,\"lon\":121.460013},{\"lat\":25.039379,\"lon\":121.460122},{\"lat\":25.039481,\"lon\":121.460374},{\"lat\":25.03973,\"lon\":121.460303},{\"lat\":25.04019,\"lon\":121.460229},{\"lat\":25.040564,\"lon\":121.460207},{\"lat\":25.04126,\"lon\":121.460168},{\"lat\":25.041643,\"lon\":121.460004},{\"lat\":25.042465,\"lon\":121.459965},{\"lat\":25.044481,\"lon\":121.459948},{\"lat\":25.04448,\"lon\":121.45977},{\"lat\":25.043776,\"lon\":121.459777},{\"lat\":25.043755,\"lon\":121.459368},{\"lat\":25.043711,\"lon\":121.457892},{\"lat\":25.043381,\"lon\":121.457904},{\"lat\":25.043095,\"lon\":121.457914},{\"lat\":25.042764,\"lon\":121.457925},{\"lat\":25.042284,\"lon\":121.457942},{\"lat\":25.041836,\"lon\":121.457956},{\"lat\":25.041455,\"lon\":121.457968},{\"lat\":25.041202,\"lon\":121.457917},{\"lat\":25.040977,\"lon\":121.457765},{\"lat\":25.040857,\"lon\":121.457639},{\"lat\":25.040797,\"lon\":121.457523},{\"lat\":25.040725,\"lon\":121.457298},{\"lat\":25.040681,\"lon\":121.457097},{\"lat\":25.040611,\"lon\":121.45655},{\"lat\":25.040837,\"lon\":121.456505},{\"lat\":25.041016,\"lon\":121.456463},{\"lat\":25.040837,\"lon\":121.456505},{\"lat\":25.040611,\"lon\":121.45655},{\"lat\":25.040619,\"lon\":121.456607},{\"lat\":25.040158,\"lon\":121.45666},{\"lat\":25.039707,\"lon\":121.456711},{\"lat\":25.039476,\"lon\":121.457097},{\"lat\":25.039375,\"lon\":121.457265},{\"lat\":25.039301,\"lon\":121.457422},{\"lat\":25.039197,\"lon\":121.457644},{\"lat\":25.039017,\"lon\":121.457907},{\"lat\":25.038935,\"lon\":121.45799},{\"lat\":25.038672,\"lon\":121.458256},{\"lat\":25.038482,\"lon\":121.458514},{\"lat\":25.038429,\"lon\":121.458717},{\"lat\":25.037967,\"lon\":121.458791},{\"lat\":25.037897,\"lon\":121.458853},{\"lat\":25.037967,\"lon\":121.458791},{\"lat\":25.037851,\"lon\":121.458599},{\"lat\":25.037459,\"lon\":121.457964},{\"lat\":25.037342,\"lon\":121.457774},{\"lat\":25.037168,\"lon\":121.457508},{\"lat\":25.037027,\"lon\":121.457231},{\"lat\":25.036977,\"lon\":121.457082},{\"lat\":25.036873,\"lon\":121.456676},{\"lat\":25.036698,\"lon\":121.454908},{\"lat\":25.036603,\"lon\":121.454403},{\"lat\":25.036454,\"lon\":121.453688},{\"lat\":25.036207,\"lon\":121.452549},{\"lat\":25.036115,\"lon\":121.452116},{\"lat\":25.036608,\"lon\":121.451973},{\"lat\":25.037333,\"lon\":121.451982},{\"lat\":25.03793,\"lon\":121.451988},{\"lat\":25.038581,\"lon\":121.452017},{\"lat\":25.039277,\"lon\":121.452136},{\"lat\":25.039585,\"lon\":121.45221},{\"lat\":25.040071,\"lon\":121.452363},{\"lat\":25.040117,\"lon\":121.45296},{\"lat\":25.040203,\"lon\":121.454048},{\"lat\":25.040325,\"lon\":121.454666},{\"lat\":25.040439,\"lon\":121.455237},{\"lat\":25.040683,\"lon\":121.455181},{\"lat\":25.041455,\"lon\":121.454986},{\"lat\":25.041842,\"lon\":121.4549},{\"lat\":25.042014,\"lon\":121.454865},{\"lat\":25.042395,\"lon\":121.45475},{\"lat\":25.042498,\"lon\":121.454682},{\"lat\":25.042607,\"lon\":121.454534},{\"lat\":25.042761,\"lon\":121.454171},{\"lat\":25.043145,\"lon\":121.453919},{\"lat\":25.043256,\"lon\":121.453866},{\"lat\":25.043357,\"lon\":121.453792},{\"lat\":25.04367,\"lon\":121.453462},{\"lat\":25.043812,\"lon\":121.453285},{\"lat\":25.043961,\"lon\":121.453145},{\"lat\":25.044307,\"lon\":121.452949},{\"lat\":25.044472,\"lon\":121.453044},{\"lat\":25.044584,\"lon\":121.453145},{\"lat\":25.044883,\"lon\":121.453422},{\"lat\":25.045198,\"lon\":121.453614},{\"lat\":25.045409,\"lon\":121.453686},{\"lat\":25.045391,\"lon\":121.453845},{\"lat\":25.045411,\"lon\":121.454511},{\"lat\":25.045418,\"lon\":121.454746},{\"lat\":25.047153,\"lon\":121.454743},{\"lat\":25.047148,\"lon\":121.455507},{\"lat\":25.047153,\"lon\":121.454743},{\"lat\":25.048239,\"lon\":121.454741},{\"lat\":25.048251,\"lon\":121.454105},{\"lat\":25.048249,\"lon\":121.453785},{\"lat\":25.048218,\"lon\":121.453165},{\"lat\":25.048209,\"lon\":121.453074},{\"lat\":25.048145,\"lon\":121.452677},{\"lat\":25.048873,\"lon\":121.452617},{\"lat\":25.049247,\"lon\":121.452632},{\"lat\":25.049256,\"lon\":121.452719},{\"lat\":25.049266,\"lon\":121.453058},{\"lat\":25.049314,\"lon\":121.453795},{\"lat\":25.049325,\"lon\":121.454564},{\"lat\":25.049364,\"lon\":121.455864},{\"lat\":25.049382,\"lon\":121.456634},{\"lat\":25.049403,\"lon\":121.457125},{\"lat\":25.049435,\"lon\":121.458246},{\"lat\":25.0488,\"lon\":121.458244},{\"lat\":25.048545,\"lon\":121.458201},{\"lat\":25.04855,\"lon\":121.45934},{\"lat\":25.048342,\"lon\":121.459357},{\"lat\":25.047765,\"lon\":121.459365},{\"lat\":25.046912,\"lon\":121.459395},{\"lat\":25.046917,\"lon\":121.459767},{\"lat\":25.045219,\"lon\":121.459769},{\"lat\":25.04448,\"lon\":121.45977},{\"lat\":25.043776,\"lon\":121.459777},{\"lat\":25.043755,\"lon\":121.459368},{\"lat\":25.04346,\"lon\":121.459379},{\"lat\":25.043429,\"lon\":121.458347},{\"lat\":25.043381,\"lon\":121.457904},{\"lat\":25.043095,\"lon\":121.457914},{\"lat\":25.042764,\"lon\":121.457925},{\"lat\":25.042284,\"lon\":121.457942},{\"lat\":25.042447,\"lon\":121.45979},{\"lat\":25.041902,\"lon\":121.459817},{\"lat\":25.041327,\"lon\":121.459851},{\"lat\":25.040893,\"lon\":121.459884},{\"lat\":25.03986,\"lon\":121.459976},{\"lat\":25.039696,\"lon\":121.460013},{\"lat\":25.039379,\"lon\":121.460122},{\"lat\":25.039481,\"lon\":121.460374},{\"lat\":25.03973,\"lon\":121.460303},{\"lat\":25.04019,\"lon\":121.460229},{\"lat\":25.040564,\"lon\":121.460207},{\"lat\":25.04126,\"lon\":121.460168},{\"lat\":25.042482,\"lon\":121.460127},{\"lat\":25.04246,\"lon\":121.459914},{\"lat\":25.041419,\"lon\":121.459961},{\"lat\":25.040893,\"lon\":121.459884},{\"lat\":25.03986,\"lon\":121.459976},{\"lat\":25.039696,\"lon\":121.460013},{\"lat\":25.039379,\"lon\":121.460122},{\"lat\":25.039481,\"lon\":121.460374},{\"lat\":25.03973,\"lon\":121.460303},{\"lat\":25.04019,\"lon\":121.460229},{\"lat\":25.040564,\"lon\":121.460207},{\"lat\":25.04126,\"lon\":121.460168}]\n"
     ]
    },
    {
     "name": "stdout",
     "output_type": "stream",
     "text": [
      "\n",
      "gps_csv name:  ./test_omnieyes/GPS_RawData/行車紀錄_2020-06-15_5T-336.csv\n",
      "number of RawData points:  2204\n",
      "number of map matching nodes:  418\n",
      "total_dist: 21.879705509555993 km\n",
      "./test_omnieyes/WebVisualizeCode/行車紀錄_2020-06-15_5T-336_trajectoryNode.txt  saved...\n",
      "-------------------------------------\n"
     ]
    }
   ],
   "source": [
    "\n",
    "for gps_csv in gps_file_list:\n",
    "#     print('gps_csv: ', gps_csv)\n",
    "\n",
    "\n",
    "    tempfile = './GPXdata/temp.gpx'\n",
    "    all_raw_data = pd.read_csv(gps_csv, encoding = \"ISO-8859-1\")\n",
    "    # with open(gps_csv, 'r', encoding = \"utf-8\")as f:\n",
    "    #     txt = f.readlines()\n",
    "\n",
    "    # print(txt)\n",
    "    index = all_raw_data.keys()\n",
    "    if 'RITI' in gps_csv:\n",
    "        n = 2\n",
    "    else:\n",
    "        n = 3\n",
    "    # print(index)\n",
    "    # print(all_raw_data[index[n]].values)\n",
    "\n",
    "    raw_lat = all_raw_data[index[n]].values\n",
    "    raw_lon = all_raw_data[index[n+1]].values\n",
    "    # print(raw_lon)\n",
    "    lat_list = []\n",
    "    lon_list = []\n",
    "    data_list = []\n",
    "    for i in range(len(raw_lat)):\n",
    "        if isinstance(raw_lat[i], float) or isinstance(raw_lat[i], int):\n",
    "            if math.isnan(raw_lat[i]) or math.isnan(raw_lon[i]):\n",
    "                continue\n",
    "            data_list.append([float(raw_lat[i]), float(raw_lon[i])])\n",
    "                \n",
    "        elif raw_lat[i].replace('.', '', 1).isdigit():\n",
    "            data_list.append([float(raw_lat[i]), float(raw_lon[i])])\n",
    "                \n",
    "    \n",
    "    ## RawData Visualization\n",
    "    txt = ''\n",
    "    txt_name = os.path.basename(gps_csv)[:-4]+'_RawData.txt'\n",
    "    for i, nd in enumerate(data_list):\n",
    "        if n == 2:\n",
    "            txt += 'L.marker(['+str(nd[0])+', '+str(nd[1]) +'], {icon: blueIcon}).addTo(mymap).bindPopup(\"'+str(i)+'\").openPopup()';\n",
    "        else:\n",
    "            txt += 'L.marker(['+str(nd[0])+', '+str(nd[1]) +'], {icon: redIcon}).addTo(mymap).bindPopup(\"'+str(i)+'\").openPopup()';\n",
    "        txt += ';\\n'\n",
    "    with open(os.path.join('./test_omnieyes/WebVisualizeCode/', txt_name), 'w') as f:\n",
    "        f.write(txt)\n",
    "    print(os.path.join('./test_omnieyes/WebVisualizeCode/', txt_name), ' saved...')\n",
    "\n",
    "\n",
    "    # print(len(data_list))\n",
    "\n",
    "    ## convert GPS data to Pandas:DataFrame Format\n",
    "    data_colnames_RawData = ['lat', 'lon']\n",
    "    df_RawData = pd.DataFrame(data_list, columns=data_colnames_RawData)\n",
    "\n",
    "    # print(df_RawData[df_RawData.timestamp == '02:03:06'])\n",
    "#     print('len(df_RawData): ', len(df_RawData))\n",
    "    \n",
    "    \n",
    "    gpx_save_name = os.path.join('./GPXdata/', os.path.basename(gps_csv)[:-4]+'.gpx')\n",
    "    # Nd_trackpoint = GenGPX(df_RawData, save_name=gpx_save_name)\n",
    "\n",
    "    ## Gen NewData \n",
    "    Nd_trackpoint = GenGPX(df_RawData, save_name=gpx_save_name)\n",
    "\n",
    "    ## cal. slope\n",
    "    # slope_start = (Nd_trackpoint[1][1]-Nd_trackpoint[0][1]) / (Nd_trackpoint[1][0]-Nd_trackpoint[0][0])\n",
    "    # slope_end = (Nd_trackpoint[-1][1]-Nd_trackpoint[-2][1]) / (Nd_trackpoint[-1][0]-Nd_trackpoint[-2][0])\n",
    "    # print('slope_start, slope_end: ', slope_start, slope_end)\n",
    "    Nd_trajectory = MapMatching(gpx_save_name, tempfile)      \n",
    "    # print('Nd_trajectory: ', Nd_trajectory)\n",
    "    data_colnames_trajectory = ['lat', 'lon']\n",
    "    Df_trajectory = pd.DataFrame(Nd_trajectory, columns=data_colnames_trajectory)\n",
    "    print(Df_trajectory.to_json(orient='records'))\n",
    "    Df_trajectory.to_csv(os.path.join('./test_omnieyes/DF_CSV/', os.path.basename(gps_csv)[:-4]+'_Df_trajectory.csv'), index=0)\n",
    "\n",
    "    print()\n",
    "    ## determine distance\n",
    "    total_dist = 0\n",
    "    for i in range(len(Nd_trajectory)-1):\n",
    "        dist = haversine(Nd_trajectory[i][0], Nd_trajectory[i][1], Nd_trajectory[i+1][0], Nd_trajectory[i+1][1])\n",
    "        total_dist += dist\n",
    "    print('gps_csv name: ', gps_csv)\n",
    "    print('number of RawData points: ', len(data_list))\n",
    "    print('number of map matching nodes: ', len(Nd_trajectory))\n",
    "    print('total_dist: {} km'.format(total_dist/1000))\n",
    "    \n",
    "    \n",
    "    txt = ''\n",
    "    txt_name = os.path.basename(gps_csv)[:-4]+'_trajectoryNode.txt'\n",
    "    for i, nd in enumerate(Nd_trajectory):\n",
    "        if n == 2:\n",
    "            txt += 'L.marker(['+str(nd[0])+', '+str(nd[1]) +'], {icon: blueIcon}).addTo(mymap).bindPopup(\"'+str(i)+'\").openPopup()';\n",
    "        else:\n",
    "            txt += 'L.marker(['+str(nd[0])+', '+str(nd[1]) +'], {icon: blueIcon}).addTo(mymap).bindPopup(\"'+str(i)+'\").openPopup()';\n",
    "        txt += ';\\n'\n",
    "    with open(os.path.join('./test_omnieyes/WebVisualizeCode/', txt_name), 'w') as f:\n",
    "        f.write(txt)\n",
    "    print(os.path.join('./test_omnieyes/WebVisualizeCode/', txt_name), ' saved...')\n",
    "    print('-------------------------------------')\n"
   ]
  },
  {
   "cell_type": "markdown",
   "metadata": {},
   "source": [
    "## References"
   ]
  },
  {
   "cell_type": "markdown",
   "metadata": {},
   "source": [
    "1. graphhopper installation tutorial [https://github.com/graphhopper/map-matching]"
   ]
  },
  {
   "cell_type": "code",
   "execution_count": 5,
   "metadata": {},
   "outputs": [
    {
     "data": {
      "text/plain": [
       "1120.7982645861"
      ]
     },
     "execution_count": 5,
     "metadata": {},
     "output_type": "execute_result"
    }
   ],
   "source": [
    "haversine(25.063700,121.657045, 25.060677,121.646430)"
   ]
  },
  {
   "cell_type": "code",
   "execution_count": 6,
   "metadata": {},
   "outputs": [
    {
     "ename": "SyntaxError",
     "evalue": "invalid syntax (<ipython-input-6-78372b235cb8>, line 1)",
     "output_type": "error",
     "traceback": [
      "\u001b[0;36m  File \u001b[0;32m\"<ipython-input-6-78372b235cb8>\"\u001b[0;36m, line \u001b[0;32m1\u001b[0m\n\u001b[0;31m    <trkpt lat=\"25.061691\" lon=\"121.646451\"><time></time></trkpt>\u001b[0m\n\u001b[0m    ^\u001b[0m\n\u001b[0;31mSyntaxError\u001b[0m\u001b[0;31m:\u001b[0m invalid syntax\n"
     ]
    }
   ],
   "source": [
    "<trkpt lat=\"25.061691\" lon=\"121.646451\"><time></time></trkpt>\n",
    "\n",
    "<trkpt lat=\"25.061691\" lon=\"121.646451\"><time></time></trkpt>\n",
    "\n",
    "remove 61~105"
   ]
  }
 ],
 "metadata": {
  "kernelspec": {
   "display_name": "Python 3",
   "language": "python",
   "name": "python3"
  },
  "language_info": {
   "codemirror_mode": {
    "name": "ipython",
    "version": 3
   },
   "file_extension": ".py",
   "mimetype": "text/x-python",
   "name": "python",
   "nbconvert_exporter": "python",
   "pygments_lexer": "ipython3",
   "version": "3.6.11"
  }
 },
 "nbformat": 4,
 "nbformat_minor": 4
}
