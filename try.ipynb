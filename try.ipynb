{
 "cells": [
  {
   "cell_type": "code",
   "execution_count": null,
   "metadata": {},
   "outputs": [],
   "source": []
  },
  {
   "cell_type": "code",
   "execution_count": 6,
   "metadata": {},
   "outputs": [
    {
     "data": {
      "text/plain": [
       "['../../data/GPXdata/gps_028-JT_01_20200318.gpx.res.gpx',\n",
       " '../../data/GPXdata/template.gpx',\n",
       " '../../data/GPXdata/gps_028-JT_01_20200318.gpx',\n",
       " '../../data/GPXdata/gps_040-JT_01_20200501_0235to0239_5min.gpx',\n",
       " '../../data/GPXdata/gps_040-JT_01_20200501_0235to0239_5min.gpx.res.gpx',\n",
       " '../../data/GPXdata/temp.gpx',\n",
       " '../../data/GPXdata/temp.gpx.res.gpx',\n",
       " '../../data/GPXdata/gps_488-F9_01_20200505_0152to0212_19min58sec.gpx',\n",
       " '../../data/GPXdata/gps_040-JT_01_20200501_0534to0539_4min51sec.gpx.res.gpx',\n",
       " '../../data/GPXdata/gps_040-JT_01_20200501_0534to0539_4min51sec.gpx',\n",
       " '../../data/GPXdata/gps_040-JT_01_20200501_0235to0239_5min.gpx.res.gpx.res.gpx']"
      ]
     },
     "execution_count": 6,
     "metadata": {},
     "output_type": "execute_result"
    }
   ],
   "source": [
    "import os\n",
    "import glob\n",
    "file_list = glob.glob('../../data/GPXdata/*.gpx')\n",
    "# str1 = '{file_list[1]}'\n",
    "file_list"
   ]
  },
  {
   "cell_type": "code",
   "execution_count": 8,
   "metadata": {},
   "outputs": [
    {
     "name": "stdout",
     "output_type": "stream",
     "text": [
      "Doing ../../data/GPXdata/gps_488-F9_01_20200505_0152to0212_19min58sec.gpx\n",
      "loading graph from cache\n",
      "../../data/GPXdata/gps_488-F9_01_20200505_0152to0212_19min58sec.gpx\n",
      "\tmatches:\t51, gps entries:1198\n",
      "\tgpx length:\t5105.4966 vs 4777.738\n",
      "\texport results to:/home/user55021/yentse/research/git_repo/thesis_space/tools/map-matching/../../data/GPXdata/gps_488-F9_01_20200505_0152to0212_19min58sec.gpx.res.gpx\n",
      "gps import took:0.09007436s, match took: 1.17856\n"
     ]
    }
   ],
   "source": [
    "for i in [7]:\n",
    "    !bash ./mm.sh {file_list[i]}"
   ]
  },
  {
   "cell_type": "code",
   "execution_count": null,
   "metadata": {},
   "outputs": [],
   "source": []
  }
 ],
 "metadata": {
  "kernelspec": {
   "display_name": "Python [conda env:CenterNet] *",
   "language": "python",
   "name": "conda-env-CenterNet-py"
  },
  "language_info": {
   "codemirror_mode": {
    "name": "ipython",
    "version": 3
   },
   "file_extension": ".py",
   "mimetype": "text/x-python",
   "name": "python",
   "nbconvert_exporter": "python",
   "pygments_lexer": "ipython3",
   "version": "3.6.7"
  }
 },
 "nbformat": 4,
 "nbformat_minor": 4
}
